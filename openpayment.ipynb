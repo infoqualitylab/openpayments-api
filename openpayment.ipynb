{
 "cells": [
  {
   "cell_type": "code",
   "execution_count": 16,
   "id": "333f0d71",
   "metadata": {},
   "outputs": [
    {
     "name": "stdout",
     "output_type": "stream",
     "text": [
      "Requirement already satisfied: requests in /Library/Frameworks/Python.framework/Versions/3.11/lib/python3.11/site-packages (2.31.0)\n",
      "Requirement already satisfied: charset-normalizer<4,>=2 in /Library/Frameworks/Python.framework/Versions/3.11/lib/python3.11/site-packages (from requests) (3.3.1)\n",
      "Requirement already satisfied: idna<4,>=2.5 in /Users/ooooona/Library/Python/3.11/lib/python/site-packages (from requests) (3.4)\n",
      "Requirement already satisfied: urllib3<3,>=1.21.1 in /Library/Frameworks/Python.framework/Versions/3.11/lib/python3.11/site-packages (from requests) (2.0.7)\n",
      "Requirement already satisfied: certifi>=2017.4.17 in /Library/Frameworks/Python.framework/Versions/3.11/lib/python3.11/site-packages (from requests) (2023.5.7)\n",
      "\n",
      "\u001b[1m[\u001b[0m\u001b[34;49mnotice\u001b[0m\u001b[1;39;49m]\u001b[0m\u001b[39;49m A new release of pip is available: \u001b[0m\u001b[31;49m23.1.2\u001b[0m\u001b[39;49m -> \u001b[0m\u001b[32;49m23.3.1\u001b[0m\n",
      "\u001b[1m[\u001b[0m\u001b[34;49mnotice\u001b[0m\u001b[1;39;49m]\u001b[0m\u001b[39;49m To update, run: \u001b[0m\u001b[32;49mpip3 install --upgrade pip\u001b[0m\n",
      "Note: you may need to restart the kernel to use updated packages.\n"
     ]
    }
   ],
   "source": [
    "pip install requests\n"
   ]
  },
  {
   "cell_type": "markdown",
   "id": "51c5bfb5",
   "metadata": {},
   "source": [
    "\n",
    "import requests\n",
    "\n",
    "api_endpoint = 'https://openpaymentsdata.cms.gov/api/1/datastore/sql?query=%5BSELECT%20%2A%20FROM%206a5a13d9-c47e-5297-82b4-77e8d04b30d6%5D%5BLIMIT%202%5D'\n",
    "physician_name = 'Gil Yosipovitch'\n",
    "\n",
    "query_params = {\n",
    "    'name': physician_name,\n",
    "}\n",
    "\n",
    "response = requests.get(api_endpoint, params=query_params)\n",
    "\n",
    "if response.status_code == 200:\n",
    "    data = response.json()\n",
    "\n",
    "  for record in data:  \n",
    "  physician_name = record.('physician_name')   \n",
    "  print(physician_name)\n",
    "else:\n",
    "   print(f\"API request failed with status code {response.status_code}: {response.text}\")\n"
   ]
  },
  {
   "cell_type": "code",
   "execution_count": 18,
   "id": "baab8218",
   "metadata": {},
   "outputs": [
    {
     "name": "stdout",
     "output_type": "stream",
     "text": [
      "Total Dollar Amount: 85.53999999999999\n",
      "Companies Making Payments:\n",
      "VisionCare Inc.\n"
     ]
    }
   ],
   "source": [
    "import requests\n",
    "from urllib.parse import quote\n",
    "\n",
    "def execute_query_and_process(url):\n",
    "    try:\n",
    "        \n",
    "        response = requests.get(url, headers={'accept': 'application/json'})\n",
    "        response.raise_for_status() \n",
    "\n",
    "        json_data = response.json()\n",
    "\n",
    "\n",
    "        dollar_amount = process_dollar_amount(json_data)\n",
    "\n",
    "        top_companies = process_top_companies(json_data)\n",
    "\n",
    "        return dollar_amount, top_companies\n",
    "\n",
    "    except requests.exceptions.RequestException as e:\n",
    "        print(f\"Error making API request: {e}\")\n",
    "        return None, None\n",
    "\n",
    "def process_dollar_amount(json_data):\n",
    "    \n",
    "    dollar_amount = sum(float(record['Total_Amount_of_Payment_USDollars']) for record in json_data)\n",
    "    return dollar_amount\n",
    "\n",
    "def process_top_companies(json_data):\n",
    "  \n",
    "    companies = {record['Submitting_Applicable_Manufacturer_or_Applicable_GPO_Name'] for record in json_data}\n",
    "    return list(companies)\n",
    "\n",
    "sql_query = \"[SELECT * FROM 594e67da-5ad3-59aa-aedb-3af5daba8d0b][WHERE covered_recipient_last_name = 'KWATRA' AND covered_recipient_first_name = 'SHAWN' AND recipient_state = 'MD']\"\n",
    "url = f\"https://openpaymentsdata.cms.gov/api/1/datastore/sql?query=%5BSELECT%20%2A%20FROM%206a5a13d9-c47e-5297-82b4-77e8d04b30d6%5D%5BLIMIT%202%5D\"\n",
    "\n",
    "dollar_amount, top_companies = execute_query_and_process(url)\n",
    "\n",
    "if dollar_amount is not None:\n",
    "    print(f\"Total Dollar Amount: {dollar_amount}\")\n",
    "\n",
    "if top_companies is not None:\n",
    "    print(\"Companies Making Payments:\")\n",
    "    for company in top_companies:\n",
    "        print(company)\n"
   ]
  },
  {
   "cell_type": "code",
   "execution_count": null,
   "id": "ff474272",
   "metadata": {},
   "outputs": [],
   "source": []
  }
 ],
 "metadata": {
  "kernelspec": {
   "display_name": "Python 3 (ipykernel)",
   "language": "python",
   "name": "python3"
  },
  "language_info": {
   "codemirror_mode": {
    "name": "ipython",
    "version": 3
   },
   "file_extension": ".py",
   "mimetype": "text/x-python",
   "name": "python",
   "nbconvert_exporter": "python",
   "pygments_lexer": "ipython3",
   "version": "3.11.4"
  }
 },
 "nbformat": 4,
 "nbformat_minor": 5
}
