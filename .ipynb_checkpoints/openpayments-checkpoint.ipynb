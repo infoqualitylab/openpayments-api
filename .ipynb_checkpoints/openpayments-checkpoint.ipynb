{
 "cells": [
  {
   "cell_type": "markdown",
   "id": "65f9fc6b",
   "metadata": {},
   "source": [
    "# OpenPayments API Experiment\n"
   ]
  },
  {
   "cell_type": "markdown",
   "id": "d0481b6e",
   "metadata": {},
   "source": [
    "Author: Tongtong Gu, Yuanxi Fu  \n",
    "Date: 2023-12-04"
   ]
  },
  {
   "cell_type": "code",
   "execution_count": 67,
   "id": "96a33431",
   "metadata": {},
   "outputs": [],
   "source": [
    "import requests\n",
    "from urllib.parse import quote\n",
    "import pandas as pd"
   ]
  },
  {
   "cell_type": "markdown",
   "id": "7bbd5d4f",
   "metadata": {},
   "source": [
    "## Retrieve Datasets Information"
   ]
  },
  {
   "cell_type": "markdown",
   "id": "c590d5b9",
   "metadata": {},
   "source": [
    "OpenPayments contains datasets from multiple years. To scan the entire database, we must btain the identifiers, publication year, and type information (general payment, research payments, and ownership payment) for all exisiting datasets. "
   ]
  },
  {
   "cell_type": "code",
   "execution_count": 68,
   "id": "d1242304",
   "metadata": {},
   "outputs": [],
   "source": [
    "url = \"https://openpaymentsdata.cms.gov/api/1/metastore/schemas/dataset/items?show-reference-ids=false\"\n",
    "datasets_info = requests.get(url).json()"
   ]
  },
  {
   "cell_type": "code",
   "execution_count": 69,
   "id": "d8bd757b",
   "metadata": {},
   "outputs": [],
   "source": [
    "idx_l = [] # identifier list\n",
    "year_l = [] # year list\n",
    "type_l = [] # type list\n",
    "\n",
    "# looping through the response\n",
    "for i in range(0, len(datasets_info)):\n",
    "    #idx_l.append(datasets_info[i]['identifier'])\n",
    "    idx_l.append(datasets_info[i]['distribution'][0]['identifier']) # query distribution ID\n",
    "    year_l.append(datasets_info[i]['keyword'][0]['data'])\n",
    "    type_l.append(datasets_info[i]['theme'][0]['data'])"
   ]
  },
  {
   "cell_type": "code",
   "execution_count": 70,
   "id": "7819a932",
   "metadata": {},
   "outputs": [
    {
     "data": {
      "text/html": [
       "<div>\n",
       "<style scoped>\n",
       "    .dataframe tbody tr th:only-of-type {\n",
       "        vertical-align: middle;\n",
       "    }\n",
       "\n",
       "    .dataframe tbody tr th {\n",
       "        vertical-align: top;\n",
       "    }\n",
       "\n",
       "    .dataframe thead th {\n",
       "        text-align: right;\n",
       "    }\n",
       "</style>\n",
       "<table border=\"1\" class=\"dataframe\">\n",
       "  <thead>\n",
       "    <tr style=\"text-align: right;\">\n",
       "      <th></th>\n",
       "      <th>idx</th>\n",
       "      <th>year</th>\n",
       "      <th>dataset_type</th>\n",
       "    </tr>\n",
       "  </thead>\n",
       "  <tbody>\n",
       "    <tr>\n",
       "      <th>0</th>\n",
       "      <td>d18bc810-0e43-580a-8bd1-9f19f60605b2</td>\n",
       "      <td>2016</td>\n",
       "      <td>Ownership Payments</td>\n",
       "    </tr>\n",
       "    <tr>\n",
       "      <th>1</th>\n",
       "      <td>3d220178-47a7-5809-b52f-b114b724c9b2</td>\n",
       "      <td>2017</td>\n",
       "      <td>Research Payments</td>\n",
       "    </tr>\n",
       "    <tr>\n",
       "      <th>2</th>\n",
       "      <td>b083c74a-4ea8-584f-808a-78ef206c05d3</td>\n",
       "      <td>2017</td>\n",
       "      <td>Ownership Payments</td>\n",
       "    </tr>\n",
       "    <tr>\n",
       "      <th>3</th>\n",
       "      <td>98ce355e-30ac-5c44-905a-d20ea3fb4c5b</td>\n",
       "      <td>2018</td>\n",
       "      <td>Research Payments</td>\n",
       "    </tr>\n",
       "    <tr>\n",
       "      <th>4</th>\n",
       "      <td>27ac8d7d-b09f-50f1-912b-82eb9bea1e27</td>\n",
       "      <td>2018</td>\n",
       "      <td>Ownership Payments</td>\n",
       "    </tr>\n",
       "    <tr>\n",
       "      <th>5</th>\n",
       "      <td>0c3ba5c5-2e14-53ba-b178-6bd6f2fc8cb6</td>\n",
       "      <td>2019</td>\n",
       "      <td>General Payments</td>\n",
       "    </tr>\n",
       "    <tr>\n",
       "      <th>6</th>\n",
       "      <td>573926e1-c96f-572b-b331-bfe22e4f110c</td>\n",
       "      <td>2019</td>\n",
       "      <td>Research Payments</td>\n",
       "    </tr>\n",
       "    <tr>\n",
       "      <th>7</th>\n",
       "      <td>da0ce603-6670-5371-9c82-40e0cb9edbc2</td>\n",
       "      <td>2019</td>\n",
       "      <td>Ownership Payments</td>\n",
       "    </tr>\n",
       "    <tr>\n",
       "      <th>8</th>\n",
       "      <td>bd4a5569-f475-5de2-b9e1-62f9f42e3d4a</td>\n",
       "      <td>2020</td>\n",
       "      <td>General Payments</td>\n",
       "    </tr>\n",
       "    <tr>\n",
       "      <th>9</th>\n",
       "      <td>81edc03e-8661-5b57-8cc5-4fe45928faf5</td>\n",
       "      <td>2020</td>\n",
       "      <td>Research Payments</td>\n",
       "    </tr>\n",
       "    <tr>\n",
       "      <th>10</th>\n",
       "      <td>74dbc29c-6509-5c0a-8b26-bdcaf9ba04f0</td>\n",
       "      <td>2020</td>\n",
       "      <td>Ownership Payments</td>\n",
       "    </tr>\n",
       "    <tr>\n",
       "      <th>11</th>\n",
       "      <td>453df531-fe7b-516a-86aa-7a8018feb266</td>\n",
       "      <td>2021</td>\n",
       "      <td>Research Payments</td>\n",
       "    </tr>\n",
       "    <tr>\n",
       "      <th>12</th>\n",
       "      <td>6f1338da-45ea-5b58-9a0b-b42f5fcd0fca</td>\n",
       "      <td>2021</td>\n",
       "      <td>Ownership Payments</td>\n",
       "    </tr>\n",
       "    <tr>\n",
       "      <th>13</th>\n",
       "      <td>594e67da-5ad3-59aa-aedb-3af5daba8d0b</td>\n",
       "      <td>2022</td>\n",
       "      <td>Research Payments</td>\n",
       "    </tr>\n",
       "    <tr>\n",
       "      <th>14</th>\n",
       "      <td>a45ad3ab-3fc2-5961-8e68-c0cf171034c3</td>\n",
       "      <td>2022</td>\n",
       "      <td>Ownership Payments</td>\n",
       "    </tr>\n",
       "    <tr>\n",
       "      <th>68</th>\n",
       "      <td>32134f0e-21dd-5978-b26d-879c3ff6ac92</td>\n",
       "      <td>2016</td>\n",
       "      <td>General Payments</td>\n",
       "    </tr>\n",
       "    <tr>\n",
       "      <th>69</th>\n",
       "      <td>feb2c60f-fdaa-5874-9156-751c448a38dd</td>\n",
       "      <td>2017</td>\n",
       "      <td>General Payments</td>\n",
       "    </tr>\n",
       "    <tr>\n",
       "      <th>70</th>\n",
       "      <td>d6a4c192-42c9-5f36-85eb-4ab2f16bb8da</td>\n",
       "      <td>2018</td>\n",
       "      <td>General Payments</td>\n",
       "    </tr>\n",
       "    <tr>\n",
       "      <th>71</th>\n",
       "      <td>6a5a13d9-c47e-5297-82b4-77e8d04b30d6</td>\n",
       "      <td>2022</td>\n",
       "      <td>General Payments</td>\n",
       "    </tr>\n",
       "    <tr>\n",
       "      <th>72</th>\n",
       "      <td>15ac7a8d-b7ae-5f2a-9760-b8a9e39ace47</td>\n",
       "      <td>2021</td>\n",
       "      <td>General Payments</td>\n",
       "    </tr>\n",
       "    <tr>\n",
       "      <th>73</th>\n",
       "      <td>0d00dc78-5178-5035-b216-21c0213f57e0</td>\n",
       "      <td>2016</td>\n",
       "      <td>Research Payments</td>\n",
       "    </tr>\n",
       "  </tbody>\n",
       "</table>\n",
       "</div>"
      ],
      "text/plain": [
       "                                     idx  year        dataset_type\n",
       "0   d18bc810-0e43-580a-8bd1-9f19f60605b2  2016  Ownership Payments\n",
       "1   3d220178-47a7-5809-b52f-b114b724c9b2  2017   Research Payments\n",
       "2   b083c74a-4ea8-584f-808a-78ef206c05d3  2017  Ownership Payments\n",
       "3   98ce355e-30ac-5c44-905a-d20ea3fb4c5b  2018   Research Payments\n",
       "4   27ac8d7d-b09f-50f1-912b-82eb9bea1e27  2018  Ownership Payments\n",
       "5   0c3ba5c5-2e14-53ba-b178-6bd6f2fc8cb6  2019    General Payments\n",
       "6   573926e1-c96f-572b-b331-bfe22e4f110c  2019   Research Payments\n",
       "7   da0ce603-6670-5371-9c82-40e0cb9edbc2  2019  Ownership Payments\n",
       "8   bd4a5569-f475-5de2-b9e1-62f9f42e3d4a  2020    General Payments\n",
       "9   81edc03e-8661-5b57-8cc5-4fe45928faf5  2020   Research Payments\n",
       "10  74dbc29c-6509-5c0a-8b26-bdcaf9ba04f0  2020  Ownership Payments\n",
       "11  453df531-fe7b-516a-86aa-7a8018feb266  2021   Research Payments\n",
       "12  6f1338da-45ea-5b58-9a0b-b42f5fcd0fca  2021  Ownership Payments\n",
       "13  594e67da-5ad3-59aa-aedb-3af5daba8d0b  2022   Research Payments\n",
       "14  a45ad3ab-3fc2-5961-8e68-c0cf171034c3  2022  Ownership Payments\n",
       "68  32134f0e-21dd-5978-b26d-879c3ff6ac92  2016    General Payments\n",
       "69  feb2c60f-fdaa-5874-9156-751c448a38dd  2017    General Payments\n",
       "70  d6a4c192-42c9-5f36-85eb-4ab2f16bb8da  2018    General Payments\n",
       "71  6a5a13d9-c47e-5297-82b4-77e8d04b30d6  2022    General Payments\n",
       "72  15ac7a8d-b7ae-5f2a-9760-b8a9e39ace47  2021    General Payments\n",
       "73  0d00dc78-5178-5035-b216-21c0213f57e0  2016   Research Payments"
      ]
     },
     "execution_count": 70,
     "metadata": {},
     "output_type": "execute_result"
    }
   ],
   "source": [
    "# create a data frame\n",
    "dataset_df = pd.DataFrame(data = {'idx': idx_l, 'year': year_l, 'dataset_type': type_l})\n",
    "dataset_df = dataset_df[dataset_df['dataset_type'] != 'Summary'] # remove summary data\n",
    "dataset_df"
   ]
  },
  {
   "cell_type": "code",
   "execution_count": 71,
   "id": "d54c3b43",
   "metadata": {},
   "outputs": [],
   "source": [
    "## Retrieve Payments Made to Dr.Shawn Kwatra from MD\n",
    "\n",
    "# sql_query = \"[SELECT * FROM 594e67da-5ad3-59aa-aedb-3af5daba8d0b][WHERE covered_recipient_last_name = 'KWATRA' AND covered_recipient_first_name = 'SHAWN' AND recipient_state = 'MD']\"\n",
    "# the URL was converted using the OpenPayments API\n",
    "# in the future, we will need a routine to convert sql query to API URL\n",
    "# we also only queried dataset with query distribution ID 594e67da-5ad3-59aa-aedb-3af5daba8d0b\n",
    "# this refers to the Research Payment Dataset collected for 2022\n",
    "url = f\"https://openpaymentsdata.cms.gov/api/1/datastore/sql?query=%5BSELECT%20%2A%20FROM%206a5a13d9-c47e-5297-82b4-77e8d04b30d6%5D%5BLIMIT%202%5D\"\n"
   ]
  },
  {
   "cell_type": "code",
   "execution_count": 72,
   "id": "310e3706",
   "metadata": {},
   "outputs": [],
   "source": [
    "def process_dollar_amount(json_data):\n",
    "    '''This function takes the json data to get total amount of payment from one dataset'''\n",
    "    \n",
    "    dollar_amount = sum([float(record['Total_Amount_of_Payment_USDollars']) for record in json_data])\n",
    "    return dollar_amount"
   ]
  },
  {
   "cell_type": "code",
   "execution_count": 73,
   "id": "55b53c70",
   "metadata": {},
   "outputs": [],
   "source": [
    "def process_payment_companies(json_data):\n",
    "    \n",
    "    '''This function takes the json data to get a list of companies that made the payments'''\n",
    "    \n",
    "    companies = [record['Submitting_Applicable_Manufacturer_or_Applicable_GPO_Name'] for record in json_data]\n",
    "    return companies"
   ]
  },
  {
   "cell_type": "code",
   "execution_count": 74,
   "id": "89ffe358",
   "metadata": {},
   "outputs": [],
   "source": [
    "def execute_query_and_process(url):\n",
    "    \n",
    "    '''This function execute the sql query and retrieve the payment made to a doctor as well as the names of the companies\n",
    "    that have made the payments'''\n",
    "    \n",
    "    try:\n",
    "        \n",
    "        response = requests.get(url, headers={'accept': 'application/json'})\n",
    "        response.raise_for_status() \n",
    "\n",
    "        json_data = response.json()\n",
    "\n",
    "\n",
    "        dollar_amount = process_dollar_amount(json_data)\n",
    "\n",
    "        top_companies = process_payment_companies(json_data)\n",
    "\n",
    "        return dollar_amount, top_companies\n",
    "\n",
    "    except requests.exceptions.RequestException as e:\n",
    "        print(f\"Error making API request: {e}\")\n",
    "        return None, None"
   ]
  },
  {
   "cell_type": "code",
   "execution_count": 75,
   "id": "fe300caa",
   "metadata": {},
   "outputs": [
    {
     "name": "stdout",
     "output_type": "stream",
     "text": [
      "Total Dollar Amount: 85.53999999999999\n",
      "Companies Making Payments:\n",
      "VisionCare Inc.\n",
      "VisionCare Inc.\n"
     ]
    }
   ],
   "source": [
    "dollar_amount, top_companies = execute_query_and_process(url)\n",
    "\n",
    "if dollar_amount is not None:\n",
    "    print(f\"Total Dollar Amount: {dollar_amount}\")\n",
    "\n",
    "if top_companies is not None:\n",
    "    print(\"Companies Making Payments:\")\n",
    "    for company in top_companies:\n",
    "        print(company)"
   ]
  },
  {
   "cell_type": "markdown",
   "id": "a26bfa3e",
   "metadata": {},
   "source": [
    "## Future Work"
   ]
  },
  {
   "cell_type": "markdown",
   "id": "cb7e142a",
   "metadata": {},
   "source": [
    "- Allow search for multiple datasets\n",
    "- User study: Gather possible queries\n",
    "- Produce a SQL query to URL module\n",
    "- Produce functions such as process_dollar_amount() and process_payment_companies() to generate a more comprehensive analytical report"
   ]
  }
 ],
 "metadata": {
  "kernelspec": {
   "display_name": "Python 3 (ipykernel)",
   "language": "python",
   "name": "python3"
  },
  "language_info": {
   "codemirror_mode": {
    "name": "ipython",
    "version": 3
   },
   "file_extension": ".py",
   "mimetype": "text/x-python",
   "name": "python",
   "nbconvert_exporter": "python",
   "pygments_lexer": "ipython3",
   "version": "3.9.17"
  }
 },
 "nbformat": 4,
 "nbformat_minor": 5
}
